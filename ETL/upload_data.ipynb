{
 "cells": [
  {
   "cell_type": "code",
   "execution_count": 2,
   "metadata": {},
   "outputs": [],
   "source": [
    "from dotenv import load_dotenv\n",
    "from sqlalchemy import engine\n",
    "import pandas as pd\n",
    "import os\n",
    "load_dotenv()\n",
    "pd.set_option('display.max_columns',200)"
   ]
  },
  {
   "cell_type": "code",
   "execution_count": 6,
   "metadata": {},
   "outputs": [
    {
     "data": {
      "text/html": [
       "<div>\n",
       "<style scoped>\n",
       "    .dataframe tbody tr th:only-of-type {\n",
       "        vertical-align: middle;\n",
       "    }\n",
       "\n",
       "    .dataframe tbody tr th {\n",
       "        vertical-align: top;\n",
       "    }\n",
       "\n",
       "    .dataframe thead th {\n",
       "        text-align: right;\n",
       "    }\n",
       "</style>\n",
       "<table border=\"1\" class=\"dataframe\">\n",
       "  <thead>\n",
       "    <tr style=\"text-align: right;\">\n",
       "      <th></th>\n",
       "      <th>game_id</th>\n",
       "      <th>name</th>\n",
       "    </tr>\n",
       "  </thead>\n",
       "  <tbody>\n",
       "    <tr>\n",
       "      <th>0</th>\n",
       "      <td>10</td>\n",
       "      <td>Counter-Strike</td>\n",
       "    </tr>\n",
       "    <tr>\n",
       "      <th>1</th>\n",
       "      <td>20</td>\n",
       "      <td>Team Fortress Classic</td>\n",
       "    </tr>\n",
       "    <tr>\n",
       "      <th>2</th>\n",
       "      <td>30</td>\n",
       "      <td>Day of Defeat</td>\n",
       "    </tr>\n",
       "    <tr>\n",
       "      <th>3</th>\n",
       "      <td>40</td>\n",
       "      <td>Deathmatch Classic</td>\n",
       "    </tr>\n",
       "    <tr>\n",
       "      <th>4</th>\n",
       "      <td>50</td>\n",
       "      <td>Half-Life: Opposing Force</td>\n",
       "    </tr>\n",
       "  </tbody>\n",
       "</table>\n",
       "</div>"
      ],
      "text/plain": [
       "   game_id                       name\n",
       "0       10             Counter-Strike\n",
       "1       20      Team Fortress Classic\n",
       "2       30              Day of Defeat\n",
       "3       40         Deathmatch Classic\n",
       "4       50  Half-Life: Opposing Force"
      ]
     },
     "execution_count": 6,
     "metadata": {},
     "output_type": "execute_result"
    }
   ],
   "source": [
    "pd.read_csv('../data/csv/games.csv')[['game_id','name']].head()"
   ]
  },
  {
   "cell_type": "code",
   "execution_count": 2,
   "metadata": {},
   "outputs": [
    {
     "data": {
      "text/plain": [
       "33837"
      ]
     },
     "execution_count": 2,
     "metadata": {},
     "output_type": "execute_result"
    }
   ],
   "source": [
    "from sqlalchemy import create_engine\n",
    "connection_string = os.environ.get('DATABASE_URL_MYSQL')\n",
    "engine = create_engine(connection_string)\n",
    "games = pd.read_csv('../data/csv/games.csv')[['game_id','name']]\n",
    "games.to_sql('games_game', con=engine, if_exists='append', index=False)"
   ]
  },
  {
   "cell_type": "code",
   "execution_count": 3,
   "metadata": {},
   "outputs": [
    {
     "data": {
      "text/plain": [
       "32076"
      ]
     },
     "execution_count": 3,
     "metadata": {},
     "output_type": "execute_result"
    }
   ],
   "source": [
    "from sqlalchemy import create_engine\n",
    "connection_string = os.environ.get('DATABASE_URL_MYSQL')\n",
    "engine = create_engine(connection_string)\n",
    "games_detail = pd.read_csv('../data/csv/games_detail.csv')[['game_id','price', 'publisher', 'release_date', 'early_access', 'url', 'developer']]\n",
    "games = pd.read_csv('../data/csv/games.csv')\n",
    "valid_game_ids = games['game_id'].tolist()\n",
    "games = games_detail[games_detail['game_id'].isin(valid_game_ids)]\n",
    "games.to_sql('games_gameinfo', con=engine, if_exists='append', index=False)"
   ]
  },
  {
   "cell_type": "code",
   "execution_count": 4,
   "metadata": {},
   "outputs": [
    {
     "data": {
      "text/plain": [
       "87626"
      ]
     },
     "execution_count": 4,
     "metadata": {},
     "output_type": "execute_result"
    }
   ],
   "source": [
    "from sqlalchemy import create_engine\n",
    "connection_string = os.environ.get('DATABASE_URL_MYSQL')\n",
    "engine = create_engine(connection_string)\n",
    "games = pd.read_csv('../data/csv/users.csv')[['user_id','items_count','steam_id','user_url']]\n",
    "games.to_sql('games_user', con=engine, if_exists='append', index=False)"
   ]
  },
  {
   "cell_type": "code",
   "execution_count": null,
   "metadata": {},
   "outputs": [],
   "source": [
    "from sqlalchemy import create_engine\n",
    "connection_string = os.environ.get('DATABASE_URL_MYSQL')\n",
    "engine = create_engine(connection_string)\n",
    "games = pd.read_csv('../data/csv/user_games.csv')[['user_id','game_id']]\n",
    "games.to_sql('games_user_games', con=engine, if_exists='append', index=False, method='multi')"
   ]
  },
  {
   "cell_type": "code",
   "execution_count": 2,
   "metadata": {},
   "outputs": [],
   "source": [
    "from sqlalchemy import create_engine\n",
    "from sqlalchemy.orm import sessionmaker\n",
    "import os\n",
    "\n",
    "# Crear la conexión a la base de datos\n",
    "connection_string = os.environ.get('DATABASE_URL_MYSQL')\n",
    "engine = create_engine(connection_string)\n",
    "\n",
    "# Crear una sesión\n",
    "Session = sessionmaker(bind=engine)\n",
    "session = Session()\n",
    "\n",
    "# Cargar datos desde el DataFrame y agregar a la base de datos\n",
    "try:\n",
    "    user_games = pd.read_csv('../data/csv/user_gamesv2.csv')[['Unnamed: 0','user_id','game_id']].rename(columns={'Unnamed: 0':'id'})\n",
    "    user_games['id'] = user_games['id'] + 1\n",
    "    user_games.to_sql('games_user_games', con=engine, if_exists='replace', index=False)\n",
    "    session.commit()  # Confirmar la transacción\n",
    "except Exception as e:\n",
    "    session.rollback()  # Revertir la transacción en caso de excepción\n",
    "    print(f\"Error: {str(e)}\")\n",
    "finally:\n",
    "    session.close()  # Cerrar la sesión\n",
    "\n"
   ]
  },
  {
   "cell_type": "code",
   "execution_count": 5,
   "metadata": {},
   "outputs": [],
   "source": [
    "from sqlalchemy import create_engine\n",
    "from sqlalchemy.orm import sessionmaker\n",
    "import os\n",
    "\n",
    "# Crear la conexión a la base de datos\n",
    "connection_string = os.environ.get('DATABASE_URL_MYSQL')\n",
    "engine = create_engine(connection_string)\n",
    "\n",
    "# Crear una sesión\n",
    "Session = sessionmaker(bind=engine)\n",
    "session = Session()\n",
    "\n",
    "# Cargar datos desde el DataFrame y agregar a la base de datos\n",
    "try:\n",
    "    user_games = pd.read_csv('../data/csv/user_gamesv2.csv')[['Unnamed: 0','user_id','game_id','hours_played']].rename(columns={'Unnamed: 0':'id','hours_played':'playtime_hours'})\n",
    "    user_games['id'] = user_games['id'] + 1\n",
    "    user_games.to_sql('games_usergameplaytime', con=engine, if_exists='replace', index=False)\n",
    "    session.commit()  # Confirmar la transacción\n",
    "except Exception as e:\n",
    "    session.rollback()  # Revertir la transacción en caso de excepción\n",
    "    print(f\"Error: {str(e)}\")\n",
    "finally:\n",
    "    session.close() "
   ]
  },
  {
   "cell_type": "code",
   "execution_count": 33,
   "metadata": {},
   "outputs": [
    {
     "data": {
      "text/plain": [
       "67692"
      ]
     },
     "execution_count": 33,
     "metadata": {},
     "output_type": "execute_result"
    }
   ],
   "source": [
    "from sqlalchemy import create_engine\n",
    "connection_string = os.environ.get('DATABASE_URL_MYSQL')\n",
    "engine = create_engine(connection_string)\n",
    "game_detail_id_list = list(pd.read_csv('../data/csv/games_detail.csv')['game_id'])\n",
    "game_id_list = list(pd.read_csv('../data/csv/games.csv')['game_id'])\n",
    "game_id_genre_id = pd.read_csv('../data/csv/game_id_genre_id.csv')[['game_id','genre_id']]\n",
    "game_id_genre_id = game_id_genre_id[game_id_genre_id['game_id'].isin(game_detail_id_list)]\n",
    "game_id_genre_id = game_id_genre_id[game_id_genre_id['game_id'].isin(game_id_list)]\n",
    "game_id_genre_id.rename(columns={'game_id':'gameinfo_id'}, inplace=True)\n",
    "game_id_genre_id.to_sql('games_gameinfo_genres', con=engine, if_exists='append', index=False)"
   ]
  },
  {
   "cell_type": "code",
   "execution_count": 35,
   "metadata": {},
   "outputs": [
    {
     "data": {
      "text/plain": [
       "122654"
      ]
     },
     "execution_count": 35,
     "metadata": {},
     "output_type": "execute_result"
    }
   ],
   "source": [
    "from sqlalchemy import create_engine\n",
    "connection_string = os.environ.get('DATABASE_URL_MYSQL')\n",
    "engine = create_engine(connection_string)\n",
    "game_detail_id_list = list(pd.read_csv('../data/csv/games_detail.csv')['game_id'])\n",
    "game_id_list = list(pd.read_csv('../data/csv/games.csv')['game_id'])\n",
    "game_id_spec_id = pd.read_csv('../data/csv/game_id_spec_id.csv')[['game_id','spec_id']]\n",
    "game_id_spec_id = game_id_spec_id[game_id_spec_id['game_id'].isin(game_detail_id_list)]\n",
    "game_id_spec_id = game_id_spec_id[game_id_spec_id['game_id'].isin(game_id_list)]\n",
    "game_id_spec_id.rename(columns={'game_id':'gameinfo_id'}, inplace=True)\n",
    "game_id_spec_id.to_sql('games_gameinfo_specs', con=engine, if_exists='append', index=False)"
   ]
  },
  {
   "cell_type": "code",
   "execution_count": 38,
   "metadata": {},
   "outputs": [
    {
     "data": {
      "text/plain": [
       "149036"
      ]
     },
     "execution_count": 38,
     "metadata": {},
     "output_type": "execute_result"
    }
   ],
   "source": [
    "from sqlalchemy import create_engine\n",
    "connection_string = os.environ.get('DATABASE_URL_MYSQL')\n",
    "engine = create_engine(connection_string)\n",
    "game_detail_id_list = list(pd.read_csv('../data/csv/games_detail.csv')['game_id'])\n",
    "game_id_list = list(pd.read_csv('../data/csv/games.csv')['game_id'])\n",
    "game_id_tag_id = pd.read_csv('../data/csv/game_id_tag_id.csv')[['game_id','tag_id']]\n",
    "game_id_tag_id = game_id_tag_id[game_id_tag_id['game_id'].isin(game_detail_id_list)]\n",
    "game_id_tag_id = game_id_tag_id[game_id_tag_id['game_id'].isin(game_id_list)]\n",
    "game_id_tag_id.rename(columns={'game_id':'gameinfo_id'}, inplace=True)\n",
    "game_id_tag_id.to_sql('games_gameinfo_tags', con=engine, if_exists='append', index=False)"
   ]
  },
  {
   "cell_type": "code",
   "execution_count": 9,
   "metadata": {},
   "outputs": [
    {
     "data": {
      "text/plain": [
       "0"
      ]
     },
     "execution_count": 9,
     "metadata": {},
     "output_type": "execute_result"
    }
   ],
   "source": [
    "from sqlalchemy import create_engine\n",
    "connection_string = os.environ.get('DATABASE_URL_MYSQL')\n",
    "engine = create_engine(connection_string)\n",
    "game_detail_id_list = list(pd.read_csv('../data/csv/games_detail.csv')['game_id'])\n",
    "game_id_list = list(pd.read_csv('../data/csv/games.csv')['game_id'])\n",
    "user_id_list = list(pd.read_csv('../data/csv/users.csv')['user_id'])\n",
    "user_reviews = pd.read_csv('../data/csv/user_reviews.csv')[['user_id', 'funny', 'posted', 'last_edited', 'game_id', 'helpful','recommend', 'review']]\n",
    "user_reviews = user_reviews[user_reviews['game_id'].isin(game_detail_id_list)]\n",
    "user_reviews = user_reviews[user_reviews['game_id'].isin(game_id_list)]\n",
    "user_reviews = user_reviews[user_reviews['game_id'].isin(user_id_list)]\n",
    "user_reviews.to_sql('games_userreviews', con=engine, if_exists='append', index=False)"
   ]
  }
 ],
 "metadata": {
  "kernelspec": {
   "display_name": "Python 3",
   "language": "python",
   "name": "python3"
  },
  "language_info": {
   "codemirror_mode": {
    "name": "ipython",
    "version": 3
   },
   "file_extension": ".py",
   "mimetype": "text/x-python",
   "name": "python",
   "nbconvert_exporter": "python",
   "pygments_lexer": "ipython3",
   "version": "3.11.3"
  },
  "orig_nbformat": 4
 },
 "nbformat": 4,
 "nbformat_minor": 2
}
